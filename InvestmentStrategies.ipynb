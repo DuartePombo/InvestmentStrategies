{
 "cells": [
  {
   "cell_type": "markdown",
   "metadata": {},
   "source": [
    "#### The portfolio strategies for now include:\n",
    "\n",
    "    - Minimum Variance\n",
    "        you can specify the number of periods to consider for the rolling window of covariance matrices\n",
    "    - Equally weighted\n",
    "        you can specify when the rebalancing will happen (from x to x periods)"
   ]
  },
  {
   "cell_type": "code",
   "execution_count": null,
   "metadata": {},
   "outputs": [],
   "source": [
    "import pandas as pd\n",
    "import numpy as np\n",
    "from tqdm import tqdm\n",
    "import numpy as np\n",
    "import matplotlib.pyplot as plt\n",
    "from scipy import optimize\n",
    "import yfinance as yf\n",
    "\n",
    "\n",
    "def MinimizePortfolioVariance(CovarReturns, RiskFreeRate, PortfolioSize):\n",
    "    \n",
    "    # define maximization of Sharpe Ratio using principle of duality\n",
    "    def  f(x, CovarReturns, RiskFreeRate, PortfolioSize):\n",
    "        funcDenomr = np.sqrt(np.matmul(np.matmul(x, CovarReturns), x.T) ) #Portfolio stdev is sqrt(((weights @ covmat) @ weights.T))\n",
    "        func = funcDenomr\n",
    "        return func\n",
    "\n",
    "    #define equality constraint representing fully invested portfolio\n",
    "    def constraintEq(x):\n",
    "        A=np.ones(x.shape)\n",
    "        b=1 #the sum of the weights will be equal to 1\n",
    "        constraintVal = np.matmul(A,x.T)-b \n",
    "        return constraintVal\n",
    "    \n",
    "    \n",
    "    #define bounds and other parameters\n",
    "    xinit=np.repeat(0.33, PortfolioSize) #will start with weights being 0.33\n",
    "    cons = ({'type': 'eq', 'fun':constraintEq})\n",
    "    lb = 0 #no shortsale constraint\n",
    "    ub = 1\n",
    "    bnds = tuple([(lb,ub) for x in xinit])\n",
    "    \n",
    "    #invoke minimize solver\n",
    "    opt = optimize.minimize (f, x0 = xinit, args = (CovarReturns,\\\n",
    "                             RiskFreeRate, PortfolioSize), method = 'SLSQP',  \\\n",
    "                             bounds = bnds, constraints = cons, tol = 10**-3)\n",
    "\n",
    "    return opt\n",
    "\n",
    "\n",
    "\n",
    "def MinimumVarianceWeights(PriceMatrix, window=12,Rf=0):\n",
    "\n",
    "    HPR_matrix = (PriceMatrix / PriceMatrix.shift(1) - 1).dropna(how='all') - Rf # creating the Holding period excess returns matrix. IMPORTANT, Rf must be in the same measure as returns. for exemple, if returns are daily, and rf is 1% yearly, you should place 0.01/252, or just ignore\n",
    "    \n",
    "    Weights=pd.DataFrame(columns=PriceMatrix.columns,index=PriceMatrix.index[window:]) # creating an empty weights dataframe\n",
    "\n",
    "    for k in tqdm(range(len(HPR_matrix)-window)): \n",
    "        \n",
    "        StocksWOnan=HPR_matrix.iloc[k:k+window,:].dropna(axis=1).columns #The StocksWOnan will make the function robust to periods where Stocks do not have prices\n",
    "        PortfolioSize=len(StocksWOnan) #the number of columns with prices is the number of stocks we can invest in our portfolio\n",
    "        CovMat=np.array(HPR_matrix[StocksWOnan].iloc[k:k+window,:].astype(float).cov()) #get the covariance matrix of the excess returns\n",
    "        \n",
    "        xOptimal =[]\n",
    "        \n",
    "        result = MinimizePortfolioVariance(CovMat, Rf, PortfolioSize) #minimize the portfolio variance\n",
    "        xOptimal.append(result.x)\n",
    "        \n",
    "        xOptimalArray = np.array(xOptimal)\n",
    "        \n",
    "    \n",
    "        Weights.loc[HPR_matrix.index[k+window],StocksWOnan]= xOptimalArray\n",
    "        \n",
    "        del StocksWOnan, PortfolioSize, CovMat\n",
    "    \n",
    "    return Weights\n",
    "\n",
    "\n",
    "\n",
    "def EquallyWeightedPortfolio(PriceMatrix,rebalancing_period=20):\n",
    "    \n",
    "\n",
    "    Weights=pd.DataFrame(columns=PriceMatrix.columns,index=PriceMatrix.index)\n",
    "    \n",
    "    StocksWOnan=PriceMatrix.iloc[0,:].dropna().index # stocks without nan at the start of the data\n",
    "    portfolioSize=len(StocksWOnan) #number of stocks to equally weigh at the beginning\n",
    "\n",
    "    for k in tqdm(range(len(PriceMatrix))):\n",
    "        if k % rebalancing_period == 0: # If we are in a rebalancing period\n",
    "            StocksWOnan=PriceMatrix.iloc[k,:].dropna().index #stocks without nan in the analysed rebalancing period\n",
    "            portfolioSize=len(StocksWOnan)\n",
    "            Weights.loc[PriceMatrix.index[k],StocksWOnan]= 1/portfolioSize\n",
    "        else: #if we are not in a rebalancing period\n",
    "            Weights.loc[PriceMatrix.index[k],StocksWOnan]= 1/portfolioSize\n",
    "    \n",
    "    return Weights"
   ]
  },
  {
   "cell_type": "markdown",
   "metadata": {},
   "source": [
    "# Showing an example"
   ]
  },
  {
   "cell_type": "code",
   "execution_count": null,
   "metadata": {},
   "outputs": [],
   "source": [
    "def getPrices(tickers,start_date,end_date):\n",
    "\n",
    "    Prices = pd.DataFrame()\n",
    "\n",
    "    for i in tickers:\n",
    "        Prices = pd.concat([Prices,yf.download(i, start=start_date, end=end_date)['Close']],axis=1)\n",
    "    Prices.columns = tickers\n",
    "\n",
    "    return Prices\n",
    "\n",
    "# Set the start and end dates for the price data\n",
    "start_date = '2010-01-01'  # Replace with your desired start date\n",
    "end_date = '2022-01-01'  # Replace with your desired end date\n",
    "tickers = ['AMZN','MSFT','TSLA','GOOG','META','JPM','NVDA']\n",
    "\n",
    "PricesMatrix = getPrices(tickers,start_date,end_date)"
   ]
  },
  {
   "cell_type": "code",
   "execution_count": null,
   "metadata": {},
   "outputs": [],
   "source": [
    "PricesMatrix"
   ]
  },
  {
   "cell_type": "code",
   "execution_count": null,
   "metadata": {},
   "outputs": [],
   "source": [
    "MinVarianceWeights = MinimumVarianceWeights(PricesMatrix, window=10,Rf=0) #The window parameter gives the nº of periods to use the covariance matrix\n",
    "MinVarianceWeights"
   ]
  },
  {
   "cell_type": "code",
   "execution_count": null,
   "metadata": {},
   "outputs": [],
   "source": [
    "EquallyWeightedWeights = EquallyWeightedPortfolio(PricesMatrix,rebalancing_period=20) #The portfolio will be rebalanced each rebalancing_periods.if daily data, and rebalancing_periods=20, then the weights will be re adjusted every 20 days\n",
    "EquallyWeightedWeights "
   ]
  }
 ],
 "metadata": {
  "kernelspec": {
   "display_name": "base",
   "language": "python",
   "name": "python3"
  },
  "language_info": {
   "codemirror_mode": {
    "name": "ipython",
    "version": 3
   },
   "file_extension": ".py",
   "mimetype": "text/x-python",
   "name": "python",
   "nbconvert_exporter": "python",
   "pygments_lexer": "ipython3",
   "version": "3.10.9"
  },
  "orig_nbformat": 4
 },
 "nbformat": 4,
 "nbformat_minor": 2
}
